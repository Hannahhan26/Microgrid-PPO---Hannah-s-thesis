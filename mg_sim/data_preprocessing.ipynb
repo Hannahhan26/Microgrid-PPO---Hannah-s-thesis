{
 "cells": [
  {
   "cell_type": "code",
   "execution_count": 1,
   "metadata": {},
   "outputs": [],
   "source": [
    "import os\n",
    "import sys\n",
    "import pandas as pd\n",
    "import numpy as np\n",
    "\n",
    "from matplotlib import pyplot as plt\n",
    "\n",
    "script_dir = os.getcwd()"
   ]
  },
  {
   "cell_type": "code",
   "execution_count": null,
   "metadata": {},
   "outputs": [],
   "source": []
  },
  {
   "cell_type": "markdown",
   "metadata": {},
   "source": [
    "### 价格"
   ]
  },
  {
   "cell_type": "code",
   "execution_count": 2,
   "metadata": {},
   "outputs": [],
   "source": [
    "# 读取 价格数据\n",
    "price_sheets_dict = pd.read_excel(os.path.join(script_dir, \"data/prices.xlsx\"), sheet_name=None, names=[\"price\"], header=None)\n",
    "\n",
    "def prices_trans(x: str):\n",
    "    x = x.split(\",\")\n",
    "    integer_part = \"\".join(x[0:-1])\n",
    "    decimal_part = x[-1]\n",
    "    total_str = \".\".join([integer_part, decimal_part])\n",
    "    return float(total_str)\n",
    "\n",
    "for sheet_name in [\"summer\", \"autumn\", \"winter\", \"spring\"]:\n",
    "    price_sheets_dict[sheet_name][\"price\"] = price_sheets_dict[sheet_name][\"price\"].apply(lambda x: prices_trans(x))\n",
    "    price_sheets_dict[sheet_name][\"price\"] /= 1000\n",
    "    price_sheets_dict[sheet_name] = price_sheets_dict[sheet_name].reset_index().rename(columns={\"index\": \"hour_of_day\"})\n",
    "    price_sheets_dict[sheet_name][\"hour_of_day\"] = price_sheets_dict[sheet_name][\"hour_of_day\"].apply(lambda x: x%24)\n",
    "    price_sheets_dict[sheet_name].to_excel(f\"./data/prices_{sheet_name}.xlsx\", index=False)"
   ]
  },
  {
   "cell_type": "code",
   "execution_count": null,
   "metadata": {},
   "outputs": [],
   "source": []
  },
  {
   "cell_type": "markdown",
   "metadata": {},
   "source": [
    "### 需求"
   ]
  },
  {
   "cell_type": "code",
   "execution_count": 3,
   "metadata": {},
   "outputs": [],
   "source": [
    "# 读取 需求数据\n",
    "demands_sheets_dict = pd.read_excel(os.path.join(script_dir, \"data/demands.xlsx\"), sheet_name=None, names=[\"demand\"])\n",
    "\n",
    "for sheet_name in [\"summer\", \"autumn\", \"winter\", \"spring\"]:\n",
    "    demands_sheets_dict[sheet_name] = demands_sheets_dict[sheet_name].reset_index().rename(columns={\"index\": \"hour_of_day\"})\n",
    "    demands_sheets_dict[sheet_name][\"hour_of_day\"] = demands_sheets_dict[sheet_name][\"hour_of_day\"].apply(lambda x: x%24)\n",
    "    demands_sheets_dict[sheet_name].to_excel(f\"./data/demands_{sheet_name}.xlsx\", index=False)"
   ]
  },
  {
   "cell_type": "code",
   "execution_count": null,
   "metadata": {},
   "outputs": [],
   "source": []
  },
  {
   "cell_type": "markdown",
   "metadata": {},
   "source": [
    "### 新能源"
   ]
  },
  {
   "cell_type": "code",
   "execution_count": 4,
   "metadata": {},
   "outputs": [],
   "source": [
    "# 读取 新能源数据\n",
    "renewable_sheets_dict = pd.read_excel(os.path.join(script_dir, \"data/renewable.xlsx\"), sheet_name=None, parse_dates=[\"timestamp\"])\n",
    "for sheet_name in [\"summer\", \"autumn\", \"winter\", \"spring\"]:\n",
    "    renewable_sheets_dict[sheet_name][\"timestamp\"] = renewable_sheets_dict[sheet_name][\"timestamp\"].dt.tz_localize(None)\n",
    "    renewable_sheets_dict[sheet_name][\"hour_of_day\"] = renewable_sheets_dict[sheet_name][\"timestamp\"].dt.hour\n",
    "    renewable_sheets_dict[sheet_name].rename(columns={\"pv / kw\": \"pv\", \"wt / kw\": \"wt\"}, inplace=True)\n",
    "    renewable_sheets_dict[sheet_name].to_excel(f\"./data/renewable_{sheet_name}.xlsx\", index=False)"
   ]
  },
  {
   "cell_type": "code",
   "execution_count": null,
   "metadata": {},
   "outputs": [],
   "source": []
  }
 ],
 "metadata": {
  "kernelspec": {
   "display_name": "wpc",
   "language": "python",
   "name": "python3"
  },
  "language_info": {
   "codemirror_mode": {
    "name": "ipython",
    "version": 3
   },
   "file_extension": ".py",
   "mimetype": "text/x-python",
   "name": "python",
   "nbconvert_exporter": "python",
   "pygments_lexer": "ipython3",
   "version": "3.10.14"
  }
 },
 "nbformat": 4,
 "nbformat_minor": 2
}
